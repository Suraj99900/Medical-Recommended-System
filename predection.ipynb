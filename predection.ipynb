{
 "cells": [
  {
   "cell_type": "markdown",
   "metadata": {},
   "source": [
    "## Title Personlized Medical Recommendation System with Machine Learning"
   ]
  },
  {
   "cell_type": "markdown",
   "metadata": {},
   "source": [
    "### Load Dataset"
   ]
  },
  {
   "cell_type": "code",
   "execution_count": 2,
   "metadata": {},
   "outputs": [],
   "source": [
    "import pandas as pd"
   ]
  },
  {
   "cell_type": "code",
   "execution_count": 5,
   "metadata": {},
   "outputs": [],
   "source": [
    "oDataSet = pd.read_csv(\"dataset/Training.csv\")"
   ]
  },
  {
   "cell_type": "code",
   "execution_count": 3,
   "metadata": {},
   "outputs": [
    {
     "data": {
      "text/plain": [
       "(4920, 133)"
      ]
     },
     "execution_count": 3,
     "metadata": {},
     "output_type": "execute_result"
    }
   ],
   "source": [
    "oDataSet.shape"
   ]
  },
  {
   "cell_type": "code",
   "execution_count": 4,
   "metadata": {},
   "outputs": [
    {
     "data": {
      "text/plain": [
       "array(['Fungal infection', 'Allergy', 'GERD', 'Chronic cholestasis',\n",
       "       'Drug Reaction', 'Peptic ulcer diseae', 'AIDS', 'Diabetes ',\n",
       "       'Gastroenteritis', 'Bronchial Asthma', 'Hypertension ', 'Migraine',\n",
       "       'Cervical spondylosis', 'Paralysis (brain hemorrhage)', 'Jaundice',\n",
       "       'Malaria', 'Chicken pox', 'Dengue', 'Typhoid', 'hepatitis A',\n",
       "       'Hepatitis B', 'Hepatitis C', 'Hepatitis D', 'Hepatitis E',\n",
       "       'Alcoholic hepatitis', 'Tuberculosis', 'Common Cold', 'Pneumonia',\n",
       "       'Dimorphic hemmorhoids(piles)', 'Heart attack', 'Varicose veins',\n",
       "       'Hypothyroidism', 'Hyperthyroidism', 'Hypoglycemia',\n",
       "       'Osteoarthristis', 'Arthritis',\n",
       "       '(vertigo) Paroymsal  Positional Vertigo', 'Acne',\n",
       "       'Urinary tract infection', 'Psoriasis', 'Impetigo'], dtype=object)"
      ]
     },
     "execution_count": 4,
     "metadata": {},
     "output_type": "execute_result"
    }
   ],
   "source": [
    "oDataSet['prognosis'].unique()"
   ]
  },
  {
   "cell_type": "markdown",
   "metadata": {},
   "source": [
    "### Train test split"
   ]
  },
  {
   "cell_type": "code",
   "execution_count": 5,
   "metadata": {},
   "outputs": [],
   "source": [
    "from sklearn.model_selection import train_test_split\n",
    "from sklearn.preprocessing import LabelEncoder"
   ]
  },
  {
   "cell_type": "code",
   "execution_count": 6,
   "metadata": {},
   "outputs": [],
   "source": [
    "# drop only prognosis column and save all the column record and stored it in the X\n",
    "X = oDataSet.drop('prognosis',axis=1)\n",
    "\n",
    "# store only the prognosis in the Y \n",
    "Y = oDataSet['prognosis']"
   ]
  },
  {
   "cell_type": "code",
   "execution_count": 7,
   "metadata": {},
   "outputs": [],
   "source": [
    "LabelEncoderConvert_Y = LabelEncoder()\n",
    "LabelEncoderConvert_Y.fit(Y)\n",
    "Updated_Y = LabelEncoderConvert_Y.transform(Y)\n"
   ]
  },
  {
   "cell_type": "code",
   "execution_count": 8,
   "metadata": {},
   "outputs": [],
   "source": [
    "X_train,X_test,Y_train,Y_test = train_test_split(X,Updated_Y,test_size=0.3,random_state=20)"
   ]
  },
  {
   "cell_type": "code",
   "execution_count": 9,
   "metadata": {},
   "outputs": [
    {
     "data": {
      "text/plain": [
       "((3444, 132), (1476, 132), (3444,), (1476,))"
      ]
     },
     "execution_count": 9,
     "metadata": {},
     "output_type": "execute_result"
    }
   ],
   "source": [
    "X_train.shape,X_test.shape,Y_train.shape,Y_test.shape"
   ]
  },
  {
   "cell_type": "markdown",
   "metadata": {},
   "source": [
    "### Training a Top Models"
   ]
  },
  {
   "cell_type": "code",
   "execution_count": 10,
   "metadata": {},
   "outputs": [
    {
     "name": "stdout",
     "output_type": "stream",
     "text": [
      "SVC accuracy: 1.0\n",
      "SVC Confuction Matricx:\n",
      "[[40,  0,  0, ...,  0,  0,  0],\n",
      " [ 0, 43,  0, ...,  0,  0,  0],\n",
      " [ 0,  0, 28, ...,  0,  0,  0],\n",
      " ...,\n",
      " [ 0,  0,  0, ..., 34,  0,  0],\n",
      " [ 0,  0,  0, ...,  0, 41,  0],\n",
      " [ 0,  0,  0, ...,  0,  0, 31]]\n",
      "RandomForest accuracy: 1.0\n",
      "RandomForest Confuction Matricx:\n",
      "[[40,  0,  0, ...,  0,  0,  0],\n",
      " [ 0, 43,  0, ...,  0,  0,  0],\n",
      " [ 0,  0, 28, ...,  0,  0,  0],\n",
      " ...,\n",
      " [ 0,  0,  0, ..., 34,  0,  0],\n",
      " [ 0,  0,  0, ...,  0, 41,  0],\n",
      " [ 0,  0,  0, ...,  0,  0, 31]]\n",
      "GradientBoosting accuracy: 1.0\n",
      "GradientBoosting Confuction Matricx:\n",
      "[[40,  0,  0, ...,  0,  0,  0],\n",
      " [ 0, 43,  0, ...,  0,  0,  0],\n",
      " [ 0,  0, 28, ...,  0,  0,  0],\n",
      " ...,\n",
      " [ 0,  0,  0, ..., 34,  0,  0],\n",
      " [ 0,  0,  0, ...,  0, 41,  0],\n",
      " [ 0,  0,  0, ...,  0,  0, 31]]\n",
      "KNeighbors accuracy: 1.0\n",
      "KNeighbors Confuction Matricx:\n",
      "[[40,  0,  0, ...,  0,  0,  0],\n",
      " [ 0, 43,  0, ...,  0,  0,  0],\n",
      " [ 0,  0, 28, ...,  0,  0,  0],\n",
      " ...,\n",
      " [ 0,  0,  0, ..., 34,  0,  0],\n",
      " [ 0,  0,  0, ...,  0, 41,  0],\n",
      " [ 0,  0,  0, ...,  0,  0, 31]]\n",
      "MultinomialNB accuracy: 1.0\n",
      "MultinomialNB Confuction Matricx:\n",
      "[[40,  0,  0, ...,  0,  0,  0],\n",
      " [ 0, 43,  0, ...,  0,  0,  0],\n",
      " [ 0,  0, 28, ...,  0,  0,  0],\n",
      " ...,\n",
      " [ 0,  0,  0, ..., 34,  0,  0],\n",
      " [ 0,  0,  0, ...,  0, 41,  0],\n",
      " [ 0,  0,  0, ...,  0,  0, 31]]\n"
     ]
    }
   ],
   "source": [
    "from sklearn.datasets import make_classification\n",
    "from sklearn.svm import SVC\n",
    "from sklearn.ensemble import RandomForestClassifier,GradientBoostingClassifier\n",
    "from sklearn.neighbors import KNeighborsClassifier\n",
    "from sklearn.naive_bayes import MultinomialNB\n",
    "\n",
    "from sklearn.metrics import accuracy_score,confusion_matrix\n",
    "import numpy as np\n",
    "\n",
    "# create a Dictionary to store model\n",
    "models = {\n",
    "    \"SVC\": SVC(kernel='linear'),\n",
    "    \"RandomForest\": RandomForestClassifier(n_estimators=100,random_state=42),\n",
    "    \"GradientBoosting\": GradientBoostingClassifier(n_estimators=100,random_state=42),\n",
    "    \"KNeighbors\": KNeighborsClassifier(n_neighbors=5),\n",
    "    \"MultinomialNB\" : MultinomialNB()\n",
    "}\n",
    "\n",
    "for model_name , model in models.items():\n",
    "   # train model\n",
    "   model.fit(X_train,Y_train)\n",
    "\n",
    "   # test model\n",
    "   predictions = model.predict(X_test)\n",
    "\n",
    "   # calculate accuracy\n",
    "   accuracy = accuracy_score(Y_test,predictions)\n",
    "\n",
    "   # calculate the Confusion matrix\n",
    "   cm = confusion_matrix(Y_test,predictions)\n",
    "\n",
    "   print(f\"{model_name} accuracy: {accuracy}\")\n",
    "   print(f\"{model_name} Confuction Matricx:\")\n",
    "   print(np.array2string(cm,separator=', '))"
   ]
  },
  {
   "cell_type": "code",
   "execution_count": 11,
   "metadata": {},
   "outputs": [
    {
     "data": {
      "text/plain": [
       "1.0"
      ]
     },
     "execution_count": 11,
     "metadata": {},
     "output_type": "execute_result"
    }
   ],
   "source": [
    "svc = SVC(kernel='linear')\n",
    "svc.fit(X_train,Y_train)\n",
    "yPred = svc.predict(X_test)\n",
    "accuracy_score(Y_test,yPred)"
   ]
  },
  {
   "cell_type": "code",
   "execution_count": 12,
   "metadata": {},
   "outputs": [],
   "source": [
    "# Saving the model\n",
    "import pickle\n",
    "# pickle.dump(svc,open('model/svc.pkl','wb'))"
   ]
  },
  {
   "cell_type": "code",
   "execution_count": 13,
   "metadata": {},
   "outputs": [],
   "source": [
    "# Load the model\n",
    "svc = pickle.load(open(\"model/svc.pkl\",\"rb\"))"
   ]
  },
  {
   "cell_type": "code",
   "execution_count": 14,
   "metadata": {},
   "outputs": [
    {
     "name": "stdout",
     "output_type": "stream",
     "text": [
      "Predicted Label : [40]\n",
      "Actual Label : 40\n"
     ]
    },
    {
     "name": "stderr",
     "output_type": "stream",
     "text": [
      "C:\\Users\\suraj\\AppData\\Local\\Packages\\PythonSoftwareFoundation.Python.3.9_qbz5n2kfra8p0\\LocalCache\\local-packages\\Python39\\site-packages\\sklearn\\base.py:493: UserWarning: X does not have valid feature names, but SVC was fitted with feature names\n",
      "  warnings.warn(\n"
     ]
    }
   ],
   "source": [
    "# Test 1\n",
    "print(\"Predicted Label :\",svc.predict(X_test.iloc[0].values.reshape(1,-1)))\n",
    "print(\"Actual Label :\", Y_test[0])"
   ]
  },
  {
   "cell_type": "code",
   "execution_count": 15,
   "metadata": {},
   "outputs": [
    {
     "name": "stdout",
     "output_type": "stream",
     "text": [
      "Predicted Label : ['Varicose veins']\n",
      "Actual Label : ['Varicose veins']\n"
     ]
    },
    {
     "name": "stderr",
     "output_type": "stream",
     "text": [
      "C:\\Users\\suraj\\AppData\\Local\\Packages\\PythonSoftwareFoundation.Python.3.9_qbz5n2kfra8p0\\LocalCache\\local-packages\\Python39\\site-packages\\sklearn\\base.py:493: UserWarning: X does not have valid feature names, but SVC was fitted with feature names\n",
      "  warnings.warn(\n"
     ]
    }
   ],
   "source": [
    "# Test 2\n",
    "print(\"Predicted Label :\",LabelEncoderConvert_Y.inverse_transform(svc.predict(X_test.iloc[100].values.reshape(1,-1))))\n",
    "print(\"Actual Label :\", LabelEncoderConvert_Y.inverse_transform([Y_test[100]]))\n"
   ]
  },
  {
   "cell_type": "markdown",
   "metadata": {},
   "source": [
    "### Recommendation System and Prediction\n",
    "#### Load dataset and use logic for recommendations"
   ]
  },
  {
   "cell_type": "code",
   "execution_count": 16,
   "metadata": {},
   "outputs": [],
   "source": [
    "sym_des = pd.read_csv(\"dataset/symtoms_df.csv\")\n",
    "precaution = pd.read_csv(\"dataset/precautions_df.csv\")\n",
    "workout = pd.read_csv(\"dataset/workout_df.csv\")\n",
    "descreption = pd.read_csv(\"dataset/description.csv\")\n",
    "medication = pd.read_csv(\"dataset/medications.csv\")\n",
    "diets = pd.read_csv(\"dataset/diets.csv\")"
   ]
  },
  {
   "cell_type": "code",
   "execution_count": 20,
   "metadata": {},
   "outputs": [
    {
     "name": "stdout",
     "output_type": "stream",
     "text": [
      "{15: 'Fungal infection', 4: 'Allergy', 16: 'GERD', 9: 'Chronic cholestasis', 14: 'Drug Reaction', 33: 'Peptic ulcer diseae', 1: 'AIDS', 12: 'Diabetes ', 17: 'Gastroenteritis', 6: 'Bronchial Asthma', 23: 'Hypertension ', 30: 'Migraine', 7: 'Cervical spondylosis', 32: 'Paralysis (brain hemorrhage)', 28: 'Jaundice', 29: 'Malaria', 8: 'Chicken pox', 11: 'Dengue', 37: 'Typhoid', 40: 'hepatitis A', 19: 'Hepatitis B', 20: 'Hepatitis C', 21: 'Hepatitis D', 22: 'Hepatitis E', 3: 'Alcoholic hepatitis', 36: 'Tuberculosis', 10: 'Common Cold', 34: 'Pneumonia', 13: 'Dimorphic hemmorhoids(piles)', 18: 'Heart attack', 39: 'Varicose veins', 26: 'Hypothyroidism', 24: 'Hyperthyroidism', 25: 'Hypoglycemia', 31: 'Osteoarthristis', 5: 'Arthritis', 0: '(vertigo) Paroymsal  Positional Vertigo', 2: 'Acne', 38: 'Urinary tract infection', 35: 'Psoriasis', 27: 'Impetigo'}\n"
     ]
    }
   ],
   "source": [
    "# fetch all the column and symptoms in the vairiable\n",
    "iii = 0\n",
    "symptoms_dict = dict()\n",
    "for column in oDataSet.drop('prognosis',axis=1):\n",
    "    symptoms_dict.update({column:iii})\n",
    "    iii = iii + 1\n",
    "\n",
    "# fetch all the column and symptoms in the vairiable\n",
    "decodedDiseasesDict = {encoded : original for original, encoded in zip(Y, Updated_Y)}\n",
    "\n",
    "print(decodedDiseasesDict)\n"
   ]
  },
  {
   "cell_type": "code",
   "execution_count": 18,
   "metadata": {},
   "outputs": [],
   "source": [
    "#  model prediction function\n",
    "\n",
    "\n",
    "def getPredictedValue(patientSymtoms):\n",
    "    input_vector = np.zeros(len(symptoms_dict))\n",
    "\n",
    "    for item in patientSymtoms:\n",
    "        input_vector[symptoms_dict[item]] = 1\n",
    "        \n",
    "    return decodedDiseasesDict[svc.predict([input_vector])[0]]"
   ]
  },
  {
   "cell_type": "code",
   "execution_count": 19,
   "metadata": {},
   "outputs": [
    {
     "name": "stdout",
     "output_type": "stream",
     "text": [
      "['']\n"
     ]
    },
    {
     "ename": "KeyError",
     "evalue": "''",
     "output_type": "error",
     "traceback": [
      "\u001b[1;31m---------------------------------------------------------------------------\u001b[0m",
      "\u001b[1;31mKeyError\u001b[0m                                  Traceback (most recent call last)",
      "Cell \u001b[1;32mIn[19], line 7\u001b[0m\n\u001b[0;32m      5\u001b[0m sUserSymtoms \u001b[38;5;241m=\u001b[39m [sym\u001b[38;5;241m.\u001b[39mstrip(\u001b[38;5;124m\"\u001b[39m\u001b[38;5;124m[]\u001b[39m\u001b[38;5;124m'\u001b[39m\u001b[38;5;124m \u001b[39m\u001b[38;5;124m\"\u001b[39m) \u001b[38;5;28;01mfor\u001b[39;00m  sym \u001b[38;5;129;01min\u001b[39;00m sUserSymtoms]\n\u001b[0;32m      6\u001b[0m \u001b[38;5;28mprint\u001b[39m(sUserSymtoms)\n\u001b[1;32m----> 7\u001b[0m sPredictedDisease \u001b[38;5;241m=\u001b[39m \u001b[43mgetPredictedValue\u001b[49m\u001b[43m(\u001b[49m\u001b[43msUserSymtoms\u001b[49m\u001b[43m)\u001b[49m\n\u001b[0;32m      8\u001b[0m sPredictedDisease\n",
      "Cell \u001b[1;32mIn[18], line 8\u001b[0m, in \u001b[0;36mgetPredictedValue\u001b[1;34m(patientSymtoms)\u001b[0m\n\u001b[0;32m      5\u001b[0m input_vector \u001b[38;5;241m=\u001b[39m np\u001b[38;5;241m.\u001b[39mzeros(\u001b[38;5;28mlen\u001b[39m(symptoms_dict))\n\u001b[0;32m      7\u001b[0m \u001b[38;5;28;01mfor\u001b[39;00m item \u001b[38;5;129;01min\u001b[39;00m patientSymtoms:\n\u001b[1;32m----> 8\u001b[0m     input_vector[\u001b[43msymptoms_dict\u001b[49m\u001b[43m[\u001b[49m\u001b[43mitem\u001b[49m\u001b[43m]\u001b[49m] \u001b[38;5;241m=\u001b[39m \u001b[38;5;241m1\u001b[39m\n\u001b[0;32m     10\u001b[0m \u001b[38;5;28;01mreturn\u001b[39;00m decodedDiseasesDict[svc\u001b[38;5;241m.\u001b[39mpredict([input_vector])[\u001b[38;5;241m0\u001b[39m]]\n",
      "\u001b[1;31mKeyError\u001b[0m: ''"
     ]
    }
   ],
   "source": [
    "#test 1:\n",
    "symptoms = input(\"Enter your symptoms......\")\n",
    "sUserSymtoms = [s.strip() for s in symptoms.split(',')]\n",
    "\n",
    "sUserSymtoms = [sym.strip(\"[]' \") for  sym in sUserSymtoms]\n",
    "print(sUserSymtoms)\n",
    "sPredictedDisease = getPredictedValue(sUserSymtoms)\n",
    "sPredictedDisease"
   ]
  },
  {
   "cell_type": "code",
   "execution_count": null,
   "metadata": {},
   "outputs": [],
   "source": [
    "# custome helper function to return the all related value of Disease\n",
    "\n",
    "def helper(sPredictedDisease):\n",
    "    sDescr = descreption[descreption['Disease'] == sPredictedDisease]['Description']\n",
    "    sDescr = \" \".join([w for w in sDescr])\n",
    "\n",
    "    sPrecaution = precaution[precaution['Disease'] == sPredictedDisease][['Precaution_1','Precaution_2','Precaution_3','Precaution_4']]\n",
    "    sPrecaution = [col for col in sPrecaution.values]\n",
    "\n",
    "    sMedication = medication[medication['Disease'] == sPredictedDisease]['Medication']\n",
    "    sMedication = [col for col in sMedication.values]\n",
    "\n",
    "    sDiets = diets[diets['Disease'] == sPredictedDisease]['Diet']\n",
    "    sDiets = [col for col in sDiets.values]\n",
    "\n",
    "    sWorkout = workout[workout['disease'] == sPredictedDisease]['workout']\n",
    "    sWorkout = [col for col in sWorkout.values]\n",
    "\n",
    "    aFinalData = {\n",
    "        \"Disease\" : sPredictedDisease,\n",
    "        \"Description\" : sDescr,\n",
    "        \"Precaution\" : sPrecaution,\n",
    "        \"Medication\" : sMedication,\n",
    "        \"Diet\" : sDiets,\n",
    "        \"Workout\" : sWorkout\n",
    "    }\n",
    "\n",
    "    return aFinalData\n"
   ]
  },
  {
   "cell_type": "code",
   "execution_count": null,
   "metadata": {},
   "outputs": [
    {
     "name": "stdout",
     "output_type": "stream",
     "text": [
      "======================Disease==============================\n",
      "\n",
      "Disease: AIDS\n",
      "\n",
      "======================Disease Description==============================\n",
      "\n",
      "Description: AIDS (Acquired Immunodeficiency Syndrome) is a disease caused by HIV that weakens the immune system.\n",
      "\n",
      "======================Disease Precaution==============================\n",
      "\n",
      "(1) avoid open cuts\n",
      "(2) wear ppe if possible\n",
      "(3) consult doctor\n",
      "(4) follow up\n",
      "======================Disease Medication==============================\n",
      "\n",
      "(1) ['Antiretroviral drugs', 'Protease inhibitors', 'Integrase inhibitors', 'Entry inhibitors', 'Fusion inhibitors']\n",
      "======================Disease Diet==============================\n",
      "\n",
      "(1) ['Balanced Diet', 'Protein-rich foods', 'Fruits and vegetables', 'Whole grains', 'Healthy fats']\n",
      "======================Disease Workout==============================\n",
      "\n",
      "(1) Follow a balanced and nutritious diet\n",
      "(2) Include lean proteins\n",
      "(3) Consume nutrient-rich foods\n",
      "(4) Stay hydrated\n",
      "(5) Include healthy fats\n",
      "(6) Avoid raw or undercooked foods\n",
      "(7) Limit sugary foods and beverages\n",
      "(8) Consume immune-boosting foods\n",
      "(9) Take prescribed supplements\n",
      "(10) Consult a healthcare professional\n"
     ]
    }
   ],
   "source": [
    "aReturnData = helper(sPredictedDisease)\n",
    "\n",
    "print(\"======================Disease==============================\\n\")\n",
    "print(\"Disease: \"+ aReturnData['Disease']+\"\\n\")\n",
    "print(\"======================Disease Description==============================\\n\")\n",
    "print(\"Description: \" +aReturnData['Description']+\"\\n\")\n",
    "print(\"======================Disease Precaution==============================\\n\")\n",
    "P_i = 1\n",
    "for item in aReturnData['Precaution'][0]:\n",
    "    print(\"(\"+str(P_i)+\") \"+str(item))\n",
    "    P_i = P_i + 1\n",
    "print(\"======================Disease Medication==============================\\n\")\n",
    "# print(\"Medication: \"+aReturnData['Medication']+\"\\n\")\n",
    "m_i = 1\n",
    "for item in aReturnData['Medication']:\n",
    "    print(\"(\"+str(m_i)+\") \"+str(item))\n",
    "    m_i = m_i + 1\n",
    "print(\"======================Disease Diet==============================\\n\")\n",
    "# print(\"Diet: \"+aReturnData['Diet']+\"\\n\")\n",
    "d_i = 1\n",
    "for item in aReturnData['Diet']:\n",
    "    print(\"(\"+str(d_i)+\") \"+str(item))\n",
    "    d_i = d_i + 1\n",
    "    \n",
    "print(\"======================Disease Workout==============================\\n\")\n",
    "# print(\"Workout: \"+aReturnData['Workout']+\"\\n\")\n",
    "w_i = 1\n",
    "for item in aReturnData['Workout']:\n",
    "    print(\"(\"+str(w_i)+\") \"+str(item))\n",
    "    w_i = w_i + 1\n"
   ]
  }
 ],
 "metadata": {
  "kernelspec": {
   "display_name": "Python 3",
   "language": "python",
   "name": "python3"
  },
  "language_info": {
   "codemirror_mode": {
    "name": "ipython",
    "version": 3
   },
   "file_extension": ".py",
   "mimetype": "text/x-python",
   "name": "python",
   "nbconvert_exporter": "python",
   "pygments_lexer": "ipython3",
   "version": "3.9.13"
  }
 },
 "nbformat": 4,
 "nbformat_minor": 2
}
